{
 "cells": [
  {
   "cell_type": "code",
   "execution_count": 1,
   "metadata": {},
   "outputs": [],
   "source": [
    "import numpy as np\n",
    "import matplotlib.pyplot as plt\n",
    "from qutip import *"
   ]
  },
  {
   "cell_type": "markdown",
   "metadata": {},
   "source": [
    "### Defining Plotting Functions"
   ]
  },
  {
   "cell_type": "code",
   "execution_count": 2,
   "metadata": {},
   "outputs": [],
   "source": [
    "def lorentzian(x, x0, gamma, A):\n",
    "    \"\"\"Calculate the Lorentzian function.\n",
    "    \n",
    "    Parameters:\n",
    "    - x: The independent variable.\n",
    "    - x0: The position of the peak.\n",
    "    - gamma: The half-width at half-maximum (HWHM).\n",
    "    - A: The peak height.\n",
    "    \"\"\"\n",
    "    return A * gamma**2 / (np.pi * ((x - x0)**2 + gamma**2))\n",
    "\n",
    "def plot_peaks(height1, height2, title):\n",
    "    \"\"\"\n",
    "    Plots two Lorentzian peaks with given heights.\n",
    "    \n",
    "    Parameters:\n",
    "    - height1: The height of the first peak.\n",
    "    - height2: The height of the second peak.\n",
    "    - title: Title of the plot\n",
    "    \"\"\"\n",
    "    x = np.linspace(2, 4, 400)  # Independent variable range\n",
    "    gamma = 0.001  # Assume a fixed HWHM for simplicity\n",
    "    x0_1, x0_2 = 3.5, 2.5  # Positions of the two peaks\n",
    "    \n",
    "    # Calculate the Lorentzian peaks\n",
    "    y1 = lorentzian(x, x0_1, gamma, height1)\n",
    "    y2 = lorentzian(x, x0_2, gamma, height2)\n",
    "    \n",
    "    # Plotting\n",
    "    plt.figure(figsize=(10, 6))\n",
    "    plt.plot(x, y1, label='Peak 1 (Height = {:.2f})'.format(height1), color = 'm')\n",
    "    plt.plot(x, y2, label='Peak 2 (Height = {:.2f})'.format(height2), color = 'm')\n",
    "    plt.title(title)\n",
    "    plt.xlabel('Frequency')\n",
    "    plt.ylabel('Amplitude')\n",
    "    plt.legend()\n",
    "    plt.show()\n",
    "\n",
    "def H_peak_simulator(rho):\n",
    "    \"\"\"\" \n",
    "    Plots the expected Hydrogen peaks on an NMR spectrum with a state descrived by density matrix rho\n",
    "\n",
    "    Parameters:\n",
    "    - rho: A 4x4 diagonal matrix\n",
    "    \"\"\"\n",
    "    a, b, c, d = np.diag(rho)\n",
    "    plot_peaks(a-c, b-d, 'Hydrogen Frequency Spectrum')\n",
    "\n",
    "def C_peak_simulator(rho):\n",
    "    \"\"\"\" \n",
    "    Plots the expected Carbon peaks on an NMR spectrum with a state descrived by density matrix rho\n",
    "\n",
    "    Parameters:\n",
    "    - rho: A 4x4 diagonal matrix\n",
    "    \"\"\"\n",
    "    a, b, c, d = np.diag(rho)\n",
    "    plot_peaks(a-b, c-d, 'Carbon Frequency Spectrum')"
   ]
  },
  {
   "cell_type": "markdown",
   "metadata": {},
   "source": [
    "### Defining Operators"
   ]
  },
  {
   "cell_type": "code",
   "execution_count": 3,
   "metadata": {},
   "outputs": [],
   "source": [
    "X = 0.5 * sigmax()\n",
    "Y = 0.5 * sigmay()\n",
    "Z = 0.5 * sigmaz()\n",
    "I = qeye(2)\n",
    "\n",
    "II = tensor(I, I)\n",
    "IX = tensor(X, I)\n",
    "IY = tensor(Y, I)\n",
    "IZ = tensor(Z, I)\n",
    "\n",
    "SX = tensor(I, X)\n",
    "SY = tensor(I, Y)\n",
    "SZ = tensor(I, Z)\n",
    "IZSZ = tensor(Z, Z) \n",
    "\n",
    "\n",
    "def R (operator, angle):\n",
    "    \"\"\"\n",
    "    Returns a unitary to implement a roatation about the 'operator' axes with an angle 'angle'\n",
    "    \"\"\"\n",
    "    return (-1j * angle * operator).expm()\n",
    "\n",
    "# phase factors to add in to remove global phase\n",
    "global_phase_pos = np.exp(1j * np.pi / 2)\n",
    "global_phase_neg = np.exp(-1j * np.pi)"
   ]
  },
  {
   "cell_type": "markdown",
   "metadata": {},
   "source": [
    "### Defining Gates"
   ]
  },
  {
   "cell_type": "code",
   "execution_count": 4,
   "metadata": {},
   "outputs": [],
   "source": [
    "\n",
    "def X_gate(qubit):\n",
    "    phase_pos = np.exp(1j * np.pi / 2)\n",
    "    phase_neg = np.exp(-1j * np.pi)\n",
    "    if qubit == 'H':\n",
    "        return phase_pos * R(IX, np.pi)\n",
    "    if qubit == 'C':\n",
    "        return phase_pos * R(SX, np.pi)\n",
    "    if qubit == 'HC':\n",
    "        return phase_neg * R(IX+SX, np.pi)\n",
    "    \n",
    "def H_gate(qubit):\n",
    "    phase = 1j * np.sqrt(2)\n",
    "    if qubit == 'H':\n",
    "        return R(IX, np.pi) * R(IY, np.pi/2) * phase\n",
    "    if qubit == 'C':\n",
    "        return  R(SX, np.pi) * R(SY, np.pi/2)  * phase\n",
    "    if qubit == 'HC':\n",
    "        return R(IX + SX, np.pi) * R(IY + SY, np.pi/2) * -2\n",
    "    \n",
    "def CZ_gate():\n",
    "    phase = np.exp(1j * np.pi / 4)\n",
    "    return R(IZ, np.pi/2) * R(SZ, np.pi/2) * R(IZSZ, -np.pi) * phase\n",
    "\n",
    "def CX_gate():\n",
    "    return H_gate('C') * CZ_gate() * H_gate('C') * 0.5"
   ]
  },
  {
   "cell_type": "markdown",
   "metadata": {},
   "source": [
    "### Printing Matrix Form of Gates"
   ]
  },
  {
   "cell_type": "code",
   "execution_count": 5,
   "metadata": {},
   "outputs": [
    {
     "name": "stdout",
     "output_type": "stream",
     "text": [
      "X Gate\n",
      "\n",
      "X gate on H: Quantum object: dims = [[2, 2], [2, 2]], shape = (4, 4), type = oper, isherm = True\n",
      "Qobj data =\n",
      "[[0. 0. 1. 0.]\n",
      " [0. 0. 0. 1.]\n",
      " [1. 0. 0. 0.]\n",
      " [0. 1. 0. 0.]]\n",
      "\n",
      "X gate on C: Quantum object: dims = [[2, 2], [2, 2]], shape = (4, 4), type = oper, isherm = True\n",
      "Qobj data =\n",
      "[[0. 1. 0. 0.]\n",
      " [1. 0. 0. 0.]\n",
      " [0. 0. 0. 1.]\n",
      " [0. 0. 1. 0.]]\n",
      "\n",
      "X gate on HC: Quantum object: dims = [[2, 2], [2, 2]], shape = (4, 4), type = oper, isherm = True\n",
      "Qobj data =\n",
      "[[0. 0. 0. 1.]\n",
      " [0. 0. 1. 0.]\n",
      " [0. 1. 0. 0.]\n",
      " [1. 0. 0. 0.]]\n"
     ]
    }
   ],
   "source": [
    "print('X Gate')\n",
    "print('\\nX gate on H:', X_gate('H'))\n",
    "print('\\nX gate on C:', X_gate('C'))\n",
    "print('\\nX gate on HC:', X_gate('HC'))"
   ]
  },
  {
   "cell_type": "code",
   "execution_count": 6,
   "metadata": {},
   "outputs": [
    {
     "name": "stdout",
     "output_type": "stream",
     "text": [
      "H Gate\n",
      "\n",
      "H gate on H: Quantum object: dims = [[2, 2], [2, 2]], shape = (4, 4), type = oper, isherm = True\n",
      "Qobj data =\n",
      "[[ 1.  0.  1.  0.]\n",
      " [ 0.  1.  0.  1.]\n",
      " [ 1.  0. -1.  0.]\n",
      " [ 0.  1.  0. -1.]]\n",
      "\n",
      "H gate on C: Quantum object: dims = [[2, 2], [2, 2]], shape = (4, 4), type = oper, isherm = True\n",
      "Qobj data =\n",
      "[[ 1.  1.  0.  0.]\n",
      " [ 1. -1.  0.  0.]\n",
      " [ 0.  0.  1.  1.]\n",
      " [ 0.  0.  1. -1.]]\n",
      "\n",
      "H gate on HC: Quantum object: dims = [[2, 2], [2, 2]], shape = (4, 4), type = oper, isherm = True\n",
      "Qobj data =\n",
      "[[ 1.  1.  1.  1.]\n",
      " [ 1. -1.  1. -1.]\n",
      " [ 1.  1. -1. -1.]\n",
      " [ 1. -1. -1.  1.]]\n"
     ]
    }
   ],
   "source": [
    "print('H Gate')\n",
    "print('\\nH gate on H:', H_gate('H'))\n",
    "print('\\nH gate on C:', H_gate('C'))\n",
    "print('\\nH gate on HC:', H_gate('HC'))"
   ]
  },
  {
   "cell_type": "code",
   "execution_count": 7,
   "metadata": {},
   "outputs": [
    {
     "name": "stdout",
     "output_type": "stream",
     "text": [
      "CZ Gate:\n",
      " Quantum object: dims = [[2, 2], [2, 2]], shape = (4, 4), type = oper, isherm = True\n",
      "Qobj data =\n",
      "[[ 1.  0.  0.  0.]\n",
      " [ 0.  1.  0.  0.]\n",
      " [ 0.  0.  1.  0.]\n",
      " [ 0.  0.  0. -1.]]\n"
     ]
    }
   ],
   "source": [
    "print('CZ Gate:\\n', CZ_gate())"
   ]
  },
  {
   "cell_type": "code",
   "execution_count": 8,
   "metadata": {},
   "outputs": [
    {
     "name": "stdout",
     "output_type": "stream",
     "text": [
      "CX gate:\n",
      " Quantum object: dims = [[2, 2], [2, 2]], shape = (4, 4), type = oper, isherm = True\n",
      "Qobj data =\n",
      "[[1. 0. 0. 0.]\n",
      " [0. 1. 0. 0.]\n",
      " [0. 0. 0. 1.]\n",
      " [0. 0. 1. 0.]]\n"
     ]
    }
   ],
   "source": [
    "print('CX gate:\\n', CX_gate())"
   ]
  },
  {
   "cell_type": "markdown",
   "metadata": {},
   "source": [
    "# 1. Running the Deutsch-Jozsa Algorithm"
   ]
  },
  {
   "cell_type": "markdown",
   "metadata": {},
   "source": [
    "### Defining Deutsch-Jozsa oracles"
   ]
  },
  {
   "cell_type": "markdown",
   "metadata": {},
   "source": [
    "### Creating temporally averaged state"
   ]
  },
  {
   "cell_type": "code",
   "execution_count": 11,
   "metadata": {},
   "outputs": [],
   "source": [
    "# making temporal averaged thermal state\n",
    "\n",
    "rho_thermal = Qobj( np.diag( [5,3,-3,-5] ), dims = [[2,2], [2,2]] )\n",
    "\n",
    "P0 = II # do nothing \n",
    "P1 = R(SX,np.pi/2) * R(IZSZ,np.pi) * R(SY+IX,np.pi/2) * R(IZSZ,np.pi) * R(IY,np.pi/2)\n",
    "P2 = R(IX,np.pi/2) * R(IZSZ,np.pi) * R(IY+SX,np.pi/2) * R(IZSZ,np.pi) * R(SY,np.pi/2)\n",
    "\n",
    "rho0 = P0 * rho_thermal * P0.dag()\n",
    "rho1 = P1 * rho_thermal * P1.dag()\n",
    "rho2 = P2 * rho_thermal * P2.dag()\n",
    "\n",
    "rho_temp_avg = (rho0 + rho1 + rho2)/3 + (5/3 * II)"
   ]
  },
  {
   "cell_type": "markdown",
   "metadata": {},
   "source": [
    "### Defining Oracles"
   ]
  },
  {
   "cell_type": "code",
   "execution_count": 13,
   "metadata": {},
   "outputs": [],
   "source": [
    "def oracle(oracle_num):\n",
    "    if oracle_num == 0:\n",
    "        return H_gate('HC') * II * H_gate('HC')\n",
    "    \n",
    "    if oracle_num == 1:\n",
    "        return H_gate('HC') * X_gate('C') * H_gate('HC')\n",
    "    \n",
    "    if oracle_num == 2:\n",
    "        return H_gate('HC') * CX_gate() * H_gate('HC')\n",
    "    \n",
    "    if oracle_num == 3:\n",
    "        return H_gate('HC') * CX_gate() * X_gate('C') * H_gate('HC')\n",
    "    \n",
    "\n",
    "def apply_oracle(oracle, rho):\n",
    "    rho_initial = X_gate('C') * rho * X_gate('C')\n",
    "    return oracle * rho_initial * oracle.dag()"
   ]
  },
  {
   "cell_type": "code",
   "execution_count": 14,
   "metadata": {},
   "outputs": [
    {
     "name": "stdout",
     "output_type": "stream",
     "text": [
      "For constant function f0, we get the result |01> as we'd expect\n",
      " Quantum object: dims = [[2, 2], [2, 2]], shape = (4, 4), type = oper, isherm = True\n",
      "Qobj data =\n",
      "[[ 0.45  0.    0.    0.  ]\n",
      " [ 0.    0.75  0.    0.  ]\n",
      " [ 0.    0.   -0.75  0.  ]\n",
      " [ 0.    0.    0.   -0.45]]\n",
      "\n",
      "For constant function f1, we get the result |01> as we'd expect\n",
      " Quantum object: dims = [[2, 2], [2, 2]], shape = (4, 4), type = oper, isherm = True\n",
      "Qobj data =\n",
      "[[ 0.45  0.    0.    0.  ]\n",
      " [ 0.    0.75  0.    0.  ]\n",
      " [ 0.    0.   -0.75  0.  ]\n",
      " [ 0.    0.    0.   -0.45]]\n",
      "\n",
      "For balanced function f2, we get the result |11> as we'd expect\n",
      " Quantum object: dims = [[2, 2], [2, 2]], shape = (4, 4), type = oper, isherm = True\n",
      "Qobj data =\n",
      "[[ 0.45  0.    0.    0.  ]\n",
      " [ 0.   -0.45  0.    0.  ]\n",
      " [ 0.    0.   -0.75  0.  ]\n",
      " [ 0.    0.    0.    0.75]]\n",
      "\n",
      "For balanced function f3, we get the result |11> as we'd expect\n",
      " Quantum object: dims = [[2, 2], [2, 2]], shape = (4, 4), type = oper, isherm = True\n",
      "Qobj data =\n",
      "[[ 0.45  0.    0.    0.  ]\n",
      " [ 0.   -0.45  0.    0.  ]\n",
      " [ 0.    0.   -0.75  0.  ]\n",
      " [ 0.    0.    0.    0.75]]\n"
     ]
    }
   ],
   "source": [
    "# results\n",
    "phase = 106.6666666667\n",
    "print ('For constant function f0, we get the result |01> as we\\'d expect\\n', apply_oracle(oracle(0), rho0) / phase) \n",
    "print ('\\nFor constant function f1, we get the result |01> as we\\'d expect\\n', apply_oracle(oracle(1), rho0) / phase)\n",
    "print ('\\nFor balanced function f2, we get the result |11> as we\\'d expect\\n', apply_oracle(oracle(2), rho0) / phase)\n",
    "print ('\\nFor balanced function f3, we get the result |11> as we\\'d expect\\n', apply_oracle(oracle(3), rho0) / phase)"
   ]
  },
  {
   "cell_type": "markdown",
   "metadata": {},
   "source": [
    "# 2. Running Grover's Algorithm"
   ]
  },
  {
   "cell_type": "code",
   "execution_count": 17,
   "metadata": {},
   "outputs": [],
   "source": [
    "def grovers(state):\n",
    "    if state == '11':\n",
    "        P = X_gate('HC') * CZ_gate() * X_gate('HC')\n",
    "    if state == '10':\n",
    "        P = X_gate('H') * CZ_gate() * X_gate('H')\n",
    "    if state == '01':\n",
    "        P = X_gate('C') * CZ_gate() * X_gate('C')\n",
    "    if state == '00':\n",
    "        P = CZ_gate()\n",
    "        \n",
    "    # G =  H * U(O) * H * P * H  \n",
    "    G =  H_gate('HC') * CZ_gate() * H_gate('HC') * P * H_gate('HC') \n",
    "    return G\n",
    "\n",
    "def apply_gates_grovers(rho, gate):\n",
    "    return gate * rho * gate.dag()\n"
   ]
  },
  {
   "cell_type": "code",
   "execution_count": 18,
   "metadata": {},
   "outputs": [
    {
     "name": "stdout",
     "output_type": "stream",
     "text": [
      "Quantum object: dims = [[2, 2], [2, 2]], shape = (4, 4), type = oper, isherm = True\n",
      "Qobj data =\n",
      "[[1. 0. 0. 0.]\n",
      " [0. 0. 0. 0.]\n",
      " [0. 0. 0. 0.]\n",
      " [0. 0. 0. 0.]]\n",
      "Quantum object: dims = [[2, 2], [2, 2]], shape = (4, 4), type = oper, isherm = True\n",
      "Qobj data =\n",
      "[[0. 0. 0. 0.]\n",
      " [0. 1. 0. 0.]\n",
      " [0. 0. 0. 0.]\n",
      " [0. 0. 0. 0.]]\n",
      "Quantum object: dims = [[2, 2], [2, 2]], shape = (4, 4), type = oper, isherm = True\n",
      "Qobj data =\n",
      "[[0. 0. 0. 0.]\n",
      " [0. 0. 0. 0.]\n",
      " [0. 0. 1. 0.]\n",
      " [0. 0. 0. 0.]]\n",
      "Quantum object: dims = [[2, 2], [2, 2]], shape = (4, 4), type = oper, isherm = True\n",
      "Qobj data =\n",
      "[[0. 0. 0. 0.]\n",
      " [0. 0. 0. 0.]\n",
      " [0. 0. 0. 0.]\n",
      " [0. 0. 0. 1.]]\n",
      "\n",
      "We obtain the results we expect\n"
     ]
    }
   ],
   "source": [
    "phase = 426.66666667\n",
    "print(apply_gates_grovers(rho_temp_avg, grovers('00')) / phase)\n",
    "print(apply_gates_grovers(rho_temp_avg, grovers('01')) / phase)\n",
    "print(apply_gates_grovers(rho_temp_avg, grovers('10')) / phase)\n",
    "print(apply_gates_grovers(rho_temp_avg, grovers('11')) / phase)\n",
    "print('\\nWe obtain the results we expect')"
   ]
  }
 ],
 "metadata": {
  "kernelspec": {
   "display_name": "Python 3",
   "language": "python",
   "name": "python3"
  },
  "language_info": {
   "codemirror_mode": {
    "name": "ipython",
    "version": 3
   },
   "file_extension": ".py",
   "mimetype": "text/x-python",
   "name": "python",
   "nbconvert_exporter": "python",
   "pygments_lexer": "ipython3",
   "version": "3.11.5"
  }
 },
 "nbformat": 4,
 "nbformat_minor": 2
}
